{
 "cells": [
  {
   "cell_type": "code",
   "execution_count": 2,
   "id": "1393812a-24f1-4203-a995-6752b027f5e9",
   "metadata": {},
   "outputs": [],
   "source": [
    "# Import dependencies\n",
    "import pandas as pd\n",
    "import matplotlib.pyplot as plt\n",
    "import numpy as np"
   ]
  },
  {
   "cell_type": "code",
   "execution_count": 3,
   "id": "82d20577-0341-4820-ab07-a1e72917ee87",
   "metadata": {},
   "outputs": [
    {
     "data": {
      "text/plain": [
       "<zip at 0x7f9b5cb35bc0>"
      ]
     },
     "execution_count": 3,
     "metadata": {},
     "output_type": "execute_result"
    }
   ],
   "source": [
    "# Create a practice set of random lat/long combos\n",
    "lats = [25.12903645, 25.92017388, 26.62509167, -59.98969384, 37.30571269]\n",
    "lngs = [-67.59741259, 11.09532135, 74.84233102, -76.89176677, -61.13376282]\n",
    "lat_lngs = zip(lats, lngs)\n",
    "lat_lngs"
   ]
  },
  {
   "cell_type": "code",
   "execution_count": 4,
   "id": "2dc8fae5-7419-465c-9762-c991fadcd410",
   "metadata": {},
   "outputs": [],
   "source": [
    "# Add the lat/longs to a list\n",
    "coordinates = list(lat_lngs)"
   ]
  },
  {
   "cell_type": "code",
   "execution_count": 5,
   "id": "a944d29d-ca4d-423c-a878-309016d1b17b",
   "metadata": {},
   "outputs": [
    {
     "data": {
      "text/plain": [
       "[(25.12903645, -67.59741259),\n",
       " (25.92017388, 11.09532135),\n",
       " (26.62509167, 74.84233102),\n",
       " (-59.98969384, -76.89176677),\n",
       " (37.30571269, -61.13376282)]"
      ]
     },
     "execution_count": 5,
     "metadata": {},
     "output_type": "execute_result"
    }
   ],
   "source": [
    "coordinates"
   ]
  },
  {
   "cell_type": "code",
   "execution_count": 6,
   "id": "7419036b-c1f0-4a1e-981b-3380f01f25cf",
   "metadata": {},
   "outputs": [],
   "source": [
    "# Use citipy module to get city based on lat long\n",
    "from citipy import citipy"
   ]
  },
  {
   "cell_type": "code",
   "execution_count": 7,
   "id": "aee60897-a63b-4b2f-b95a-e22adab72369",
   "metadata": {},
   "outputs": [
    {
     "data": {
      "text/plain": [
       "<zip at 0x7f9b5ea5c440>"
      ]
     },
     "execution_count": 7,
     "metadata": {},
     "output_type": "execute_result"
    }
   ],
   "source": [
    "# create new practice set because I already unzipped that one?\n",
    "latitudes = [25.12903645, 25.92017388, 26.62509167, -59.98969384, 37.30571269]\n",
    "longitudes = [-67.59741259, 11.09532135, 74.84233102, -76.89176677, -61.13376282]\n",
    "lat_longs = zip(latitudes, longitudes)\n",
    "lat_longs"
   ]
  },
  {
   "cell_type": "code",
   "execution_count": 8,
   "id": "a30036f0-e87f-4a58-b84c-1934f7ab57c7",
   "metadata": {},
   "outputs": [
    {
     "data": {
      "text/plain": [
       "[(25.12903645, -67.59741259),\n",
       " (25.92017388, 11.09532135),\n",
       " (26.62509167, 74.84233102),\n",
       " (-59.98969384, -76.89176677),\n",
       " (37.30571269, -61.13376282)]"
      ]
     },
     "execution_count": 8,
     "metadata": {},
     "output_type": "execute_result"
    }
   ],
   "source": [
    "coords = list(lat_longs)\n",
    "\n",
    "coords"
   ]
  },
  {
   "cell_type": "code",
   "execution_count": 9,
   "id": "3216d4e2-87ce-454b-9e4e-dd351b54611d",
   "metadata": {},
   "outputs": [
    {
     "name": "stdout",
     "output_type": "stream",
     "text": [
      "cockburn town tc\n",
      "gat ly\n",
      "parvatsar in\n",
      "punta arenas cl\n",
      "saint george bm\n"
     ]
    }
   ],
   "source": [
    "# Use the print function to display lat/long combos\n",
    "for coord in coords:\n",
    "    print(citipy.nearest_city(coord[0], coord[1]).city_name,\n",
    "          citipy.nearest_city(coord[0], coord[1]).country_code)"
   ]
  },
  {
   "cell_type": "code",
   "execution_count": 10,
   "id": "52269556-17ea-4a56-aa4e-2e4af2b629f9",
   "metadata": {},
   "outputs": [],
   "source": [
    "# Import the requests library\n",
    "import requests\n",
    "\n",
    "# Import the API key\n",
    "from config import weather_api_key"
   ]
  },
  {
   "cell_type": "code",
   "execution_count": 11,
   "id": "c30d6c98-2268-4a78-91d6-b519a8706426",
   "metadata": {},
   "outputs": [],
   "source": [
    "# Starting URL from weather map API call\n",
    "url = \"https://api.openweathermap.org/data/2.5/weather?units=Imperial&appid=\"+ weather_api_key\n"
   ]
  },
  {
   "cell_type": "code",
   "execution_count": 12,
   "id": "58c40832-d4c6-41e7-ab7c-a164e68c6dd0",
   "metadata": {},
   "outputs": [],
   "source": [
    "# Create an endpoint URL for a city\n",
    "city_url = url +\"&q=\" + \"Boston\"\n"
   ]
  },
  {
   "cell_type": "code",
   "execution_count": 34,
   "id": "05968d01-0845-4c54-8146-8e3fdd45e8fb",
   "metadata": {},
   "outputs": [
    {
     "name": "stdout",
     "output_type": "stream",
     "text": [
      "City weather found\n"
     ]
    }
   ],
   "source": [
    "# Make a get request for the city weather\n",
    "# We do this so that we know whether our request is valid\n",
    "city_weather = requests.get(city_url)\n",
    "if city_weather.status_code == 200:\n",
    "    print(f\"City weather found\")\n",
    "else:\n",
    "    print(f\"City weather not found\")"
   ]
  },
  {
   "cell_type": "code",
   "execution_count": 26,
   "id": "940d026f-6320-4009-a773-cc0d2e6d49ee",
   "metadata": {},
   "outputs": [
    {
     "data": {
      "text/plain": [
       "200"
      ]
     },
     "execution_count": 26,
     "metadata": {},
     "output_type": "execute_result"
    }
   ],
   "source": [
    "# Directly call the response code\n",
    "city_weather.status_code"
   ]
  },
  {
   "cell_type": "code",
   "execution_count": 27,
   "id": "831f586e-8d11-4245-8c23-a48235cdaca0",
   "metadata": {},
   "outputs": [
    {
     "data": {
      "text/plain": [
       "'{\"coord\":{\"lon\":-71.0598,\"lat\":42.3584},\"weather\":[{\"id\":804,\"main\":\"Clouds\",\"description\":\"overcast clouds\",\"icon\":\"04d\"}],\"base\":\"stations\",\"main\":{\"temp\":57.02,\"feels_like\":55.9,\"temp_min\":52.38,\"temp_max\":60.64,\"pressure\":1021,\"humidity\":74},\"visibility\":10000,\"wind\":{\"speed\":5.01,\"deg\":38,\"gust\":11.01},\"clouds\":{\"all\":85},\"dt\":1665439202,\"sys\":{\"type\":2,\"id\":2013408,\"country\":\"US\",\"sunrise\":1665399066,\"sunset\":1665439863},\"timezone\":-14400,\"id\":4930956,\"name\":\"Boston\",\"cod\":200}'"
      ]
     },
     "execution_count": 27,
     "metadata": {},
     "output_type": "execute_result"
    }
   ],
   "source": [
    "# Obtain text format from the \"get\" request\n",
    "city_weather.text"
   ]
  },
  {
   "cell_type": "code",
   "execution_count": 28,
   "id": "48472598-46de-4804-9020-cbfe4c23593f",
   "metadata": {},
   "outputs": [
    {
     "data": {
      "text/plain": [
       "{'coord': {'lon': -71.0598, 'lat': 42.3584},\n",
       " 'weather': [{'id': 804,\n",
       "   'main': 'Clouds',\n",
       "   'description': 'overcast clouds',\n",
       "   'icon': '04d'}],\n",
       " 'base': 'stations',\n",
       " 'main': {'temp': 57.02,\n",
       "  'feels_like': 55.9,\n",
       "  'temp_min': 52.38,\n",
       "  'temp_max': 60.64,\n",
       "  'pressure': 1021,\n",
       "  'humidity': 74},\n",
       " 'visibility': 10000,\n",
       " 'wind': {'speed': 5.01, 'deg': 38, 'gust': 11.01},\n",
       " 'clouds': {'all': 85},\n",
       " 'dt': 1665439202,\n",
       " 'sys': {'type': 2,\n",
       "  'id': 2013408,\n",
       "  'country': 'US',\n",
       "  'sunrise': 1665399066,\n",
       "  'sunset': 1665439863},\n",
       " 'timezone': -14400,\n",
       " 'id': 4930956,\n",
       " 'name': 'Boston',\n",
       " 'cod': 200}"
      ]
     },
     "execution_count": 28,
     "metadata": {},
     "output_type": "execute_result"
    }
   ],
   "source": [
    "# Obtain JSON format from the \"get\" request\n",
    "city_weather.json()"
   ]
  },
  {
   "cell_type": "code",
   "execution_count": 36,
   "id": "102f332f-75cd-4a77-82e7-2a759862839d",
   "metadata": {},
   "outputs": [
    {
     "data": {
      "text/plain": [
       "{'type': 2,\n",
       " 'id': 2013408,\n",
       " 'country': 'US',\n",
       " 'sunrise': 1665399066,\n",
       " 'sunset': 1665439863}"
      ]
     },
     "execution_count": 36,
     "metadata": {},
     "output_type": "execute_result"
    }
   ],
   "source": [
    "# Assign a variable to the JSON data\n",
    "boston_data = city_weather.json()\n",
    "boston_data[\"sys\"]\n"
   ]
  },
  {
   "cell_type": "code",
   "execution_count": 37,
   "id": "cb0ca0e7-fb46-46f5-a23f-972751fa52ef",
   "metadata": {},
   "outputs": [
    {
     "data": {
      "text/plain": [
       "'US'"
      ]
     },
     "execution_count": 37,
     "metadata": {},
     "output_type": "execute_result"
    }
   ],
   "source": [
    "boston_data[\"sys\"][\"country\"]"
   ]
  },
  {
   "cell_type": "code",
   "execution_count": 39,
   "id": "e3189bdf-1f03-4dae-bb32-d943feba9660",
   "metadata": {},
   "outputs": [
    {
     "name": "stdout",
     "output_type": "stream",
     "text": [
      "42.3584 -71.0598 60.64 74 85 5.01\n"
     ]
    }
   ],
   "source": [
    "lat = boston_data[\"coord\"][\"lat\"]\n",
    "lon = boston_data[\"coord\"][\"lon\"]\n",
    "max_temp =  boston_data[\"main\"][\"temp_max\"]\n",
    "humidity =  boston_data[\"main\"][\"humidity\"]\n",
    "clouds =  boston_data[\"clouds\"][\"all\"]\n",
    "wind = boston_data[\"wind\"][\"speed\"]\n",
    "print(lat, lon, max_temp, humidity, clouds, wind)\n"
   ]
  },
  {
   "cell_type": "code",
   "execution_count": 40,
   "id": "9987dd77-29f5-4983-8ca3-d5afed6649b7",
   "metadata": {},
   "outputs": [
    {
     "data": {
      "text/plain": [
       "1665439202"
      ]
     },
     "execution_count": 40,
     "metadata": {},
     "output_type": "execute_result"
    }
   ],
   "source": [
    "boston_data[\"dt\"]"
   ]
  },
  {
   "cell_type": "code",
   "execution_count": 42,
   "id": "8ca76acb-bdd2-4033-afb6-5f4d95857953",
   "metadata": {},
   "outputs": [
    {
     "data": {
      "text/plain": [
       "datetime.datetime(2022, 10, 10, 22, 0, 2)"
      ]
     },
     "execution_count": 42,
     "metadata": {},
     "output_type": "execute_result"
    }
   ],
   "source": [
    "#To convert UTC to ISO format, we need an import\n",
    "# Import the datetime module from the datetime library\n",
    "from datetime import datetime\n",
    "\n",
    "# Get the date from the JSON file\n",
    "date = boston_data[\"dt\"]\n",
    "\n",
    "# Convert from UTC to ISO\n",
    "datetime.utcfromtimestamp(date)"
   ]
  },
  {
   "cell_type": "code",
   "execution_count": 43,
   "id": "7358a9a8-55ab-456e-bbf1-67b92e302fd2",
   "metadata": {},
   "outputs": [
    {
     "data": {
      "text/plain": [
       "'2022-1010 22:00:02'"
      ]
     },
     "execution_count": 43,
     "metadata": {},
     "output_type": "execute_result"
    }
   ],
   "source": [
    "# To reformat to YYYY-MM--DD HH:MM:SS\n",
    "# we will use Py string format method strftime()\n",
    "\n",
    "datetime.utcfromtimestamp(date).strftime(\"%Y-%m%d %H:%M:%S\")"
   ]
  },
  {
   "cell_type": "code",
   "execution_count": null,
   "id": "d8bd664b-e6b5-4a5b-ac3e-3fcc938b307b",
   "metadata": {},
   "outputs": [],
   "source": []
  }
 ],
 "metadata": {
  "kernelspec": {
   "display_name": "PythonData",
   "language": "python",
   "name": "pythondata"
  },
  "language_info": {
   "codemirror_mode": {
    "name": "ipython",
    "version": 3
   },
   "file_extension": ".py",
   "mimetype": "text/x-python",
   "name": "python",
   "nbconvert_exporter": "python",
   "pygments_lexer": "ipython3",
   "version": "3.8.13"
  }
 },
 "nbformat": 4,
 "nbformat_minor": 5
}

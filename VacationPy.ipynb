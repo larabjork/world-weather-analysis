{
 "cells": [
  {
   "cell_type": "code",
   "execution_count": 1,
   "id": "4f060da2-cf7a-4bb6-b951-02bf28256f7c",
   "metadata": {},
   "outputs": [],
   "source": [
    "#6.5.3 create heatmaps for weather parameters\n",
    "\n",
    "# Import dependencies\n",
    "import pandas as pd\n",
    "import gmaps\n",
    "import requests\n",
    "from config import g_key"
   ]
  },
  {
   "cell_type": "code",
   "execution_count": 2,
   "id": "335fff66-9342-402a-bcad-9d7e51ffb062",
   "metadata": {},
   "outputs": [
    {
     "data": {
      "text/html": [
       "<div>\n",
       "<style scoped>\n",
       "    .dataframe tbody tr th:only-of-type {\n",
       "        vertical-align: middle;\n",
       "    }\n",
       "\n",
       "    .dataframe tbody tr th {\n",
       "        vertical-align: top;\n",
       "    }\n",
       "\n",
       "    .dataframe thead th {\n",
       "        text-align: right;\n",
       "    }\n",
       "</style>\n",
       "<table border=\"1\" class=\"dataframe\">\n",
       "  <thead>\n",
       "    <tr style=\"text-align: right;\">\n",
       "      <th></th>\n",
       "      <th>City_ID</th>\n",
       "      <th>City</th>\n",
       "      <th>Country</th>\n",
       "      <th>Date</th>\n",
       "      <th>Lat</th>\n",
       "      <th>Lng</th>\n",
       "      <th>Max Temp</th>\n",
       "      <th>Humidity</th>\n",
       "      <th>Clouds</th>\n",
       "      <th>Wind</th>\n",
       "    </tr>\n",
       "  </thead>\n",
       "  <tbody>\n",
       "    <tr>\n",
       "      <th>0</th>\n",
       "      <td>0</td>\n",
       "      <td>Rikitea</td>\n",
       "      <td>PF</td>\n",
       "      <td>2022-10-12 20:1911</td>\n",
       "      <td>-23.1203</td>\n",
       "      <td>-134.9692</td>\n",
       "      <td>67.93</td>\n",
       "      <td>64</td>\n",
       "      <td>0</td>\n",
       "      <td>17.52</td>\n",
       "    </tr>\n",
       "    <tr>\n",
       "      <th>1</th>\n",
       "      <td>1</td>\n",
       "      <td>Mataura</td>\n",
       "      <td>NZ</td>\n",
       "      <td>2022-10-12 20:1912</td>\n",
       "      <td>-46.1927</td>\n",
       "      <td>168.8643</td>\n",
       "      <td>44.96</td>\n",
       "      <td>69</td>\n",
       "      <td>98</td>\n",
       "      <td>0.85</td>\n",
       "    </tr>\n",
       "    <tr>\n",
       "      <th>2</th>\n",
       "      <td>2</td>\n",
       "      <td>Albany</td>\n",
       "      <td>US</td>\n",
       "      <td>2022-10-12 20:1535</td>\n",
       "      <td>42.6001</td>\n",
       "      <td>-73.9662</td>\n",
       "      <td>68.88</td>\n",
       "      <td>48</td>\n",
       "      <td>100</td>\n",
       "      <td>3.00</td>\n",
       "    </tr>\n",
       "    <tr>\n",
       "      <th>3</th>\n",
       "      <td>3</td>\n",
       "      <td>Kyaikkami</td>\n",
       "      <td>MM</td>\n",
       "      <td>2022-10-12 20:1715</td>\n",
       "      <td>16.0800</td>\n",
       "      <td>97.5675</td>\n",
       "      <td>79.18</td>\n",
       "      <td>77</td>\n",
       "      <td>6</td>\n",
       "      <td>3.31</td>\n",
       "    </tr>\n",
       "    <tr>\n",
       "      <th>4</th>\n",
       "      <td>4</td>\n",
       "      <td>Punta Arenas</td>\n",
       "      <td>CL</td>\n",
       "      <td>2022-10-12 20:1703</td>\n",
       "      <td>-53.1500</td>\n",
       "      <td>-70.9167</td>\n",
       "      <td>41.02</td>\n",
       "      <td>70</td>\n",
       "      <td>40</td>\n",
       "      <td>29.93</td>\n",
       "    </tr>\n",
       "    <tr>\n",
       "      <th>5</th>\n",
       "      <td>5</td>\n",
       "      <td>Ushuaia</td>\n",
       "      <td>AR</td>\n",
       "      <td>2022-10-12 20:1914</td>\n",
       "      <td>-54.8000</td>\n",
       "      <td>-68.3000</td>\n",
       "      <td>37.06</td>\n",
       "      <td>87</td>\n",
       "      <td>100</td>\n",
       "      <td>27.63</td>\n",
       "    </tr>\n",
       "    <tr>\n",
       "      <th>6</th>\n",
       "      <td>6</td>\n",
       "      <td>Santa Maria</td>\n",
       "      <td>BR</td>\n",
       "      <td>2022-10-12 20:1823</td>\n",
       "      <td>-29.6842</td>\n",
       "      <td>-53.8069</td>\n",
       "      <td>70.90</td>\n",
       "      <td>56</td>\n",
       "      <td>1</td>\n",
       "      <td>5.73</td>\n",
       "    </tr>\n",
       "    <tr>\n",
       "      <th>7</th>\n",
       "      <td>7</td>\n",
       "      <td>Minusinsk</td>\n",
       "      <td>RU</td>\n",
       "      <td>2022-10-12 20:1915</td>\n",
       "      <td>53.7103</td>\n",
       "      <td>91.6875</td>\n",
       "      <td>41.99</td>\n",
       "      <td>84</td>\n",
       "      <td>100</td>\n",
       "      <td>9.98</td>\n",
       "    </tr>\n",
       "    <tr>\n",
       "      <th>8</th>\n",
       "      <td>8</td>\n",
       "      <td>Vostok</td>\n",
       "      <td>RU</td>\n",
       "      <td>2022-10-12 20:1916</td>\n",
       "      <td>46.4856</td>\n",
       "      <td>135.8833</td>\n",
       "      <td>31.82</td>\n",
       "      <td>78</td>\n",
       "      <td>32</td>\n",
       "      <td>4.56</td>\n",
       "    </tr>\n",
       "    <tr>\n",
       "      <th>9</th>\n",
       "      <td>9</td>\n",
       "      <td>Kamaishi</td>\n",
       "      <td>JP</td>\n",
       "      <td>2022-10-12 20:1916</td>\n",
       "      <td>39.2667</td>\n",
       "      <td>141.8833</td>\n",
       "      <td>58.68</td>\n",
       "      <td>73</td>\n",
       "      <td>100</td>\n",
       "      <td>5.53</td>\n",
       "    </tr>\n",
       "  </tbody>\n",
       "</table>\n",
       "</div>"
      ],
      "text/plain": [
       "   City_ID          City Country                Date      Lat       Lng  \\\n",
       "0        0       Rikitea      PF  2022-10-12 20:1911 -23.1203 -134.9692   \n",
       "1        1       Mataura      NZ  2022-10-12 20:1912 -46.1927  168.8643   \n",
       "2        2        Albany      US  2022-10-12 20:1535  42.6001  -73.9662   \n",
       "3        3     Kyaikkami      MM  2022-10-12 20:1715  16.0800   97.5675   \n",
       "4        4  Punta Arenas      CL  2022-10-12 20:1703 -53.1500  -70.9167   \n",
       "5        5       Ushuaia      AR  2022-10-12 20:1914 -54.8000  -68.3000   \n",
       "6        6   Santa Maria      BR  2022-10-12 20:1823 -29.6842  -53.8069   \n",
       "7        7     Minusinsk      RU  2022-10-12 20:1915  53.7103   91.6875   \n",
       "8        8        Vostok      RU  2022-10-12 20:1916  46.4856  135.8833   \n",
       "9        9      Kamaishi      JP  2022-10-12 20:1916  39.2667  141.8833   \n",
       "\n",
       "   Max Temp  Humidity  Clouds   Wind  \n",
       "0     67.93        64       0  17.52  \n",
       "1     44.96        69      98   0.85  \n",
       "2     68.88        48     100   3.00  \n",
       "3     79.18        77       6   3.31  \n",
       "4     41.02        70      40  29.93  \n",
       "5     37.06        87     100  27.63  \n",
       "6     70.90        56       1   5.73  \n",
       "7     41.99        84     100   9.98  \n",
       "8     31.82        78      32   4.56  \n",
       "9     58.68        73     100   5.53  "
      ]
     },
     "execution_count": 2,
     "metadata": {},
     "output_type": "execute_result"
    }
   ],
   "source": [
    "# store csv data into a dataframe\n",
    "city_data_df = pd.read_csv(\"weather_data/cities.csv\")\n",
    "city_data_df.head(10)"
   ]
  },
  {
   "cell_type": "code",
   "execution_count": 3,
   "id": "6d88680a-3b67-48f2-b604-d2c24393a8aa",
   "metadata": {},
   "outputs": [
    {
     "data": {
      "text/plain": [
       "City_ID       int64\n",
       "City         object\n",
       "Country      object\n",
       "Date         object\n",
       "Lat         float64\n",
       "Lng         float64\n",
       "Max Temp    float64\n",
       "Humidity      int64\n",
       "Clouds        int64\n",
       "Wind        float64\n",
       "dtype: object"
      ]
     },
     "execution_count": 3,
     "metadata": {},
     "output_type": "execute_result"
    }
   ],
   "source": [
    "city_data_df.dtypes"
   ]
  },
  {
   "cell_type": "code",
   "execution_count": 4,
   "id": "561fa5dd-fe59-478b-9d36-ab1ca7ba70d9",
   "metadata": {},
   "outputs": [],
   "source": [
    "# Configure gmaps to use my Google API key\n",
    "gmaps.configure(api_key = g_key)"
   ]
  },
  {
   "cell_type": "code",
   "execution_count": 5,
   "id": "dca88ae7-18e9-4b75-9f6b-f826177f7115",
   "metadata": {},
   "outputs": [
    {
     "data": {
      "text/plain": [
       "-3.46"
      ]
     },
     "execution_count": 5,
     "metadata": {},
     "output_type": "execute_result"
    }
   ],
   "source": [
    "# # 1. Assign the locations to an array of lat/long pairs\n",
    "# locations = city_data_df[[\"Lat\", \"Lng\"]]\n",
    "\n",
    "# # 2. Assign the weights variable to some values\n",
    "# max_temp = city_data_df[\"Max Temp\"]\n",
    "\n",
    "# # 3. Assign the figure variable to the gmaps.figure() attribute\n",
    "# fig = gmaps.figure()\n",
    "\n",
    "# # 4. Assign the heatmap_layer variable to the heatmap_layer attribute and add in the locations\n",
    "# heat_layer = gmaps.heatmap_layer(locations, weights = max_temp)\n",
    "\n",
    "# # 5. Add the heatmap layer\n",
    "# fig.add_layer(heat_layer)\n",
    "\n",
    "# # 6. Call the figure to plot the data\n",
    "# fig\n",
    "# Argh - the above code ran into a negative value for the Max Temp!\n",
    "\n",
    "min_num = city_data_df[\"Max Temp\"].min()\n",
    "min_num"
   ]
  },
  {
   "cell_type": "code",
   "execution_count": 6,
   "id": "2fc9aad8-dc45-42fa-b40e-a5d557d09775",
   "metadata": {},
   "outputs": [
    {
     "data": {
      "text/plain": [
       "534"
      ]
     },
     "execution_count": 6,
     "metadata": {},
     "output_type": "execute_result"
    }
   ],
   "source": [
    "len(city_data_df)"
   ]
  },
  {
   "cell_type": "code",
   "execution_count": 7,
   "id": "58b1a224-ad30-40ae-a2a8-c9013c6f78f1",
   "metadata": {},
   "outputs": [
    {
     "data": {
      "text/html": [
       "<div>\n",
       "<style scoped>\n",
       "    .dataframe tbody tr th:only-of-type {\n",
       "        vertical-align: middle;\n",
       "    }\n",
       "\n",
       "    .dataframe tbody tr th {\n",
       "        vertical-align: top;\n",
       "    }\n",
       "\n",
       "    .dataframe thead th {\n",
       "        text-align: right;\n",
       "    }\n",
       "</style>\n",
       "<table border=\"1\" class=\"dataframe\">\n",
       "  <thead>\n",
       "    <tr style=\"text-align: right;\">\n",
       "      <th></th>\n",
       "      <th>City_ID</th>\n",
       "      <th>City</th>\n",
       "      <th>Country</th>\n",
       "      <th>Date</th>\n",
       "      <th>Lat</th>\n",
       "      <th>Lng</th>\n",
       "      <th>Max Temp</th>\n",
       "      <th>Humidity</th>\n",
       "      <th>Clouds</th>\n",
       "      <th>Wind</th>\n",
       "    </tr>\n",
       "  </thead>\n",
       "  <tbody>\n",
       "    <tr>\n",
       "      <th>503</th>\n",
       "      <td>503</td>\n",
       "      <td>Deputatskiy</td>\n",
       "      <td>RU</td>\n",
       "      <td>2022-10-12 20:3514</td>\n",
       "      <td>69.3</td>\n",
       "      <td>139.9</td>\n",
       "      <td>-3.46</td>\n",
       "      <td>87</td>\n",
       "      <td>3</td>\n",
       "      <td>5.06</td>\n",
       "    </tr>\n",
       "  </tbody>\n",
       "</table>\n",
       "</div>"
      ],
      "text/plain": [
       "     City_ID         City Country                Date   Lat    Lng  Max Temp  \\\n",
       "503      503  Deputatskiy      RU  2022-10-12 20:3514  69.3  139.9     -3.46   \n",
       "\n",
       "     Humidity  Clouds  Wind  \n",
       "503        87       3  5.06  "
      ]
     },
     "execution_count": 7,
     "metadata": {},
     "output_type": "execute_result"
    }
   ],
   "source": [
    "# find row with negative max temp\n",
    "bad_row = city_data_df.loc[city_data_df['Max Temp'] <= 0]\n",
    "bad_row\n",
    "\n",
    "\n",
    "# Module has another way to deal with this.\n",
    "# max_temp = city_data_df[\"Max Temp\"]\n",
    "# temps = []\n",
    "# for temp in max_temp:\n",
    "#    temps.append(max(temp, 0))\n",
    "\n",
    "# Then use \"temps\" instead of \"max_temp\" in weights = max_temp line  of heat_layer variable"
   ]
  },
  {
   "cell_type": "code",
   "execution_count": 8,
   "id": "391c74c7-e8d0-4143-a463-9441a8c470f5",
   "metadata": {},
   "outputs": [
    {
     "name": "stdout",
     "output_type": "stream",
     "text": [
      "533\n",
      "2.25\n"
     ]
    }
   ],
   "source": [
    "# drop row with negative max temp and check length of DF\n",
    "updated_df = city_data_df.drop(503)\n",
    "print(len(updated_df))\n",
    "# Check for new lowest Max Temp\n",
    "print(updated_df[\"Max Temp\"].min())"
   ]
  },
  {
   "cell_type": "code",
   "execution_count": 9,
   "id": "f8fb4234-0e40-4bd9-a4bc-9784e69405d8",
   "metadata": {},
   "outputs": [
    {
     "data": {
      "application/vnd.jupyter.widget-view+json": {
       "model_id": "f324583fa0094016ae60905934e52e81",
       "version_major": 2,
       "version_minor": 0
      },
      "text/plain": [
       "Figure(layout=FigureLayout(height='420px'))"
      ]
     },
     "metadata": {},
     "output_type": "display_data"
    }
   ],
   "source": [
    "# Retry with new DF\n",
    "\n",
    "# 1. Assign the locations to an array of lat/long pairs\n",
    "locations = updated_df[[\"Lat\", \"Lng\"]]\n",
    "\n",
    "# 2. Assign the weights variable to some values\n",
    "max_temp = updated_df[\"Max Temp\"]\n",
    "\n",
    "# 3. Assign the figure variable to the gmaps.figure() attribute\n",
    "fig = gmaps.figure()\n",
    "\n",
    "# 4. Assign the heatmap_layer variable to the heatmap_layer attribute and add in the locations\n",
    "heat_layer = gmaps.heatmap_layer(locations, weights = max_temp)\n",
    "\n",
    "# 5. Add the heatmap layer\n",
    "fig.add_layer(heat_layer)\n",
    "\n",
    "# 6. Call the figure to plot the data\n",
    "fig"
   ]
  },
  {
   "cell_type": "code",
   "execution_count": 14,
   "id": "b7f98a95-766e-40b9-ab2b-a4a9ca148f14",
   "metadata": {},
   "outputs": [
    {
     "data": {
      "application/vnd.jupyter.widget-view+json": {
       "model_id": "583d577c78414f9fa4cd9bc804053145",
       "version_major": 2,
       "version_minor": 0
      },
      "text/plain": [
       "Figure(layout=FigureLayout(height='420px'))"
      ]
     },
     "metadata": {},
     "output_type": "display_data"
    }
   ],
   "source": [
    "# Adjust heatmap zoom, intensity, and point radius\n",
    "locations = updated_df[[\"Lat\", \"Lng\"]]\n",
    "\n",
    "max_temp = updated_df[\"Max Temp\"]\n",
    "\n",
    "fig = gmaps.figure(center=(30.0, 31.0), zoom_level = 1.2)\n",
    "\n",
    "heat_layer = gmaps.heatmap_layer(locations, weights = max_temp, dissipating = False, max_intensity = 300, point_radius = 4)\n",
    "\n",
    "fig.add_layer(heat_layer)\n",
    "\n",
    "fig"
   ]
  },
  {
   "cell_type": "code",
   "execution_count": 18,
   "id": "ac456e88",
   "metadata": {},
   "outputs": [
    {
     "data": {
      "application/vnd.jupyter.widget-view+json": {
       "model_id": "583d577c78414f9fa4cd9bc804053145",
       "version_major": 2,
       "version_minor": 0
      },
      "text/plain": [
       "Figure(layout=FigureLayout(height='420px'))"
      ]
     },
     "metadata": {},
     "output_type": "display_data"
    }
   ],
   "source": [
    "# Create a percent humidity heatmap\n",
    "locations = updated_df[[\"Lat\", \"Lng\"]]\n",
    "humidity = updated_df[\"Humidity\"]\n",
    "humid_layer = gmaps.heatmap_layer(locations, weights = humidity, dissipating = False, max_intensity = 300, point_radius = 4)\n",
    "fig.add_layer(humid_layer)\n",
    "fig"
   ]
  },
  {
   "cell_type": "code",
   "execution_count": 19,
   "id": "0b73b34c",
   "metadata": {},
   "outputs": [
    {
     "data": {
      "application/vnd.jupyter.widget-view+json": {
       "model_id": "583d577c78414f9fa4cd9bc804053145",
       "version_major": 2,
       "version_minor": 0
      },
      "text/plain": [
       "Figure(layout=FigureLayout(height='420px'))"
      ]
     },
     "metadata": {},
     "output_type": "display_data"
    }
   ],
   "source": [
    "# Create a wind speed heatmap\n",
    "locations = updated_df[[\"Lat\", \"Lng\"]]\n",
    "wind = updated_df[\"Wind\"]\n",
    "wind_layer = gmaps.heatmap_layer(locations, weights = wind, dissipating = False, max_intensity = 300, point_radius = 4)\n",
    "fig.add_layer(wind_layer)\n",
    "fig"
   ]
  },
  {
   "cell_type": "code",
   "execution_count": 20,
   "id": "51936221",
   "metadata": {},
   "outputs": [
    {
     "data": {
      "application/vnd.jupyter.widget-view+json": {
       "model_id": "583d577c78414f9fa4cd9bc804053145",
       "version_major": 2,
       "version_minor": 0
      },
      "text/plain": [
       "Figure(layout=FigureLayout(height='420px'))"
      ]
     },
     "metadata": {},
     "output_type": "display_data"
    }
   ],
   "source": [
    "# Create a cloudiness heatmap\n",
    "locations = updated_df[[\"Lat\", \"Lng\"]]\n",
    "clouds = updated_df[\"Clouds\"]\n",
    "cloud_layer = gmaps.heatmap_layer(locations, weights = clouds, dissipating = False, max_intensity = 300, point_radius = 4)\n",
    "fig.add_layer(cloud_layer)\n",
    "fig"
   ]
  },
  {
   "cell_type": "code",
   "execution_count": null,
   "id": "36488ea0",
   "metadata": {},
   "outputs": [],
   "source": []
  }
 ],
 "metadata": {
  "kernelspec": {
   "display_name": "PythonData",
   "language": "python",
   "name": "pythondata"
  },
  "language_info": {
   "codemirror_mode": {
    "name": "ipython",
    "version": 3
   },
   "file_extension": ".py",
   "mimetype": "text/x-python",
   "name": "python",
   "nbconvert_exporter": "python",
   "pygments_lexer": "ipython3",
   "version": "3.8.13"
  }
 },
 "nbformat": 4,
 "nbformat_minor": 5
}

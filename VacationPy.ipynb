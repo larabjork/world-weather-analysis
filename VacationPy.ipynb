{
 "cells": [
  {
   "cell_type": "code",
   "execution_count": 1,
   "id": "4f060da2-cf7a-4bb6-b951-02bf28256f7c",
   "metadata": {},
   "outputs": [],
   "source": [
    "#6.5.3 create heatmaps for weather parameters\n",
    "\n",
    "# Import dependencies\n",
    "import pandas as pd\n",
    "import gmaps\n",
    "import requests\n",
    "from config import g_key"
   ]
  },
  {
   "cell_type": "code",
   "execution_count": 2,
   "id": "335fff66-9342-402a-bcad-9d7e51ffb062",
   "metadata": {},
   "outputs": [
    {
     "data": {
      "text/html": [
       "<div>\n",
       "<style scoped>\n",
       "    .dataframe tbody tr th:only-of-type {\n",
       "        vertical-align: middle;\n",
       "    }\n",
       "\n",
       "    .dataframe tbody tr th {\n",
       "        vertical-align: top;\n",
       "    }\n",
       "\n",
       "    .dataframe thead th {\n",
       "        text-align: right;\n",
       "    }\n",
       "</style>\n",
       "<table border=\"1\" class=\"dataframe\">\n",
       "  <thead>\n",
       "    <tr style=\"text-align: right;\">\n",
       "      <th></th>\n",
       "      <th>City_ID</th>\n",
       "      <th>City</th>\n",
       "      <th>Country</th>\n",
       "      <th>Date</th>\n",
       "      <th>Lat</th>\n",
       "      <th>Lng</th>\n",
       "      <th>Max Temp</th>\n",
       "      <th>Humidity</th>\n",
       "      <th>Clouds</th>\n",
       "      <th>Wind</th>\n",
       "    </tr>\n",
       "  </thead>\n",
       "  <tbody>\n",
       "    <tr>\n",
       "      <th>0</th>\n",
       "      <td>0</td>\n",
       "      <td>Rikitea</td>\n",
       "      <td>PF</td>\n",
       "      <td>2022-10-12 20:1911</td>\n",
       "      <td>-23.1203</td>\n",
       "      <td>-134.9692</td>\n",
       "      <td>67.93</td>\n",
       "      <td>64</td>\n",
       "      <td>0</td>\n",
       "      <td>17.52</td>\n",
       "    </tr>\n",
       "    <tr>\n",
       "      <th>1</th>\n",
       "      <td>1</td>\n",
       "      <td>Mataura</td>\n",
       "      <td>NZ</td>\n",
       "      <td>2022-10-12 20:1912</td>\n",
       "      <td>-46.1927</td>\n",
       "      <td>168.8643</td>\n",
       "      <td>44.96</td>\n",
       "      <td>69</td>\n",
       "      <td>98</td>\n",
       "      <td>0.85</td>\n",
       "    </tr>\n",
       "    <tr>\n",
       "      <th>2</th>\n",
       "      <td>2</td>\n",
       "      <td>Albany</td>\n",
       "      <td>US</td>\n",
       "      <td>2022-10-12 20:1535</td>\n",
       "      <td>42.6001</td>\n",
       "      <td>-73.9662</td>\n",
       "      <td>68.88</td>\n",
       "      <td>48</td>\n",
       "      <td>100</td>\n",
       "      <td>3.00</td>\n",
       "    </tr>\n",
       "    <tr>\n",
       "      <th>3</th>\n",
       "      <td>3</td>\n",
       "      <td>Kyaikkami</td>\n",
       "      <td>MM</td>\n",
       "      <td>2022-10-12 20:1715</td>\n",
       "      <td>16.0800</td>\n",
       "      <td>97.5675</td>\n",
       "      <td>79.18</td>\n",
       "      <td>77</td>\n",
       "      <td>6</td>\n",
       "      <td>3.31</td>\n",
       "    </tr>\n",
       "    <tr>\n",
       "      <th>4</th>\n",
       "      <td>4</td>\n",
       "      <td>Punta Arenas</td>\n",
       "      <td>CL</td>\n",
       "      <td>2022-10-12 20:1703</td>\n",
       "      <td>-53.1500</td>\n",
       "      <td>-70.9167</td>\n",
       "      <td>41.02</td>\n",
       "      <td>70</td>\n",
       "      <td>40</td>\n",
       "      <td>29.93</td>\n",
       "    </tr>\n",
       "    <tr>\n",
       "      <th>5</th>\n",
       "      <td>5</td>\n",
       "      <td>Ushuaia</td>\n",
       "      <td>AR</td>\n",
       "      <td>2022-10-12 20:1914</td>\n",
       "      <td>-54.8000</td>\n",
       "      <td>-68.3000</td>\n",
       "      <td>37.06</td>\n",
       "      <td>87</td>\n",
       "      <td>100</td>\n",
       "      <td>27.63</td>\n",
       "    </tr>\n",
       "    <tr>\n",
       "      <th>6</th>\n",
       "      <td>6</td>\n",
       "      <td>Santa Maria</td>\n",
       "      <td>BR</td>\n",
       "      <td>2022-10-12 20:1823</td>\n",
       "      <td>-29.6842</td>\n",
       "      <td>-53.8069</td>\n",
       "      <td>70.90</td>\n",
       "      <td>56</td>\n",
       "      <td>1</td>\n",
       "      <td>5.73</td>\n",
       "    </tr>\n",
       "    <tr>\n",
       "      <th>7</th>\n",
       "      <td>7</td>\n",
       "      <td>Minusinsk</td>\n",
       "      <td>RU</td>\n",
       "      <td>2022-10-12 20:1915</td>\n",
       "      <td>53.7103</td>\n",
       "      <td>91.6875</td>\n",
       "      <td>41.99</td>\n",
       "      <td>84</td>\n",
       "      <td>100</td>\n",
       "      <td>9.98</td>\n",
       "    </tr>\n",
       "    <tr>\n",
       "      <th>8</th>\n",
       "      <td>8</td>\n",
       "      <td>Vostok</td>\n",
       "      <td>RU</td>\n",
       "      <td>2022-10-12 20:1916</td>\n",
       "      <td>46.4856</td>\n",
       "      <td>135.8833</td>\n",
       "      <td>31.82</td>\n",
       "      <td>78</td>\n",
       "      <td>32</td>\n",
       "      <td>4.56</td>\n",
       "    </tr>\n",
       "    <tr>\n",
       "      <th>9</th>\n",
       "      <td>9</td>\n",
       "      <td>Kamaishi</td>\n",
       "      <td>JP</td>\n",
       "      <td>2022-10-12 20:1916</td>\n",
       "      <td>39.2667</td>\n",
       "      <td>141.8833</td>\n",
       "      <td>58.68</td>\n",
       "      <td>73</td>\n",
       "      <td>100</td>\n",
       "      <td>5.53</td>\n",
       "    </tr>\n",
       "  </tbody>\n",
       "</table>\n",
       "</div>"
      ],
      "text/plain": [
       "   City_ID          City Country                Date      Lat       Lng  \\\n",
       "0        0       Rikitea      PF  2022-10-12 20:1911 -23.1203 -134.9692   \n",
       "1        1       Mataura      NZ  2022-10-12 20:1912 -46.1927  168.8643   \n",
       "2        2        Albany      US  2022-10-12 20:1535  42.6001  -73.9662   \n",
       "3        3     Kyaikkami      MM  2022-10-12 20:1715  16.0800   97.5675   \n",
       "4        4  Punta Arenas      CL  2022-10-12 20:1703 -53.1500  -70.9167   \n",
       "5        5       Ushuaia      AR  2022-10-12 20:1914 -54.8000  -68.3000   \n",
       "6        6   Santa Maria      BR  2022-10-12 20:1823 -29.6842  -53.8069   \n",
       "7        7     Minusinsk      RU  2022-10-12 20:1915  53.7103   91.6875   \n",
       "8        8        Vostok      RU  2022-10-12 20:1916  46.4856  135.8833   \n",
       "9        9      Kamaishi      JP  2022-10-12 20:1916  39.2667  141.8833   \n",
       "\n",
       "   Max Temp  Humidity  Clouds   Wind  \n",
       "0     67.93        64       0  17.52  \n",
       "1     44.96        69      98   0.85  \n",
       "2     68.88        48     100   3.00  \n",
       "3     79.18        77       6   3.31  \n",
       "4     41.02        70      40  29.93  \n",
       "5     37.06        87     100  27.63  \n",
       "6     70.90        56       1   5.73  \n",
       "7     41.99        84     100   9.98  \n",
       "8     31.82        78      32   4.56  \n",
       "9     58.68        73     100   5.53  "
      ]
     },
     "execution_count": 2,
     "metadata": {},
     "output_type": "execute_result"
    }
   ],
   "source": [
    "# store csv data into a dataframe\n",
    "city_data_df = pd.read_csv(\"weather_data/cities.csv\")\n",
    "city_data_df.head(10)"
   ]
  },
  {
   "cell_type": "code",
   "execution_count": 3,
   "id": "6d88680a-3b67-48f2-b604-d2c24393a8aa",
   "metadata": {},
   "outputs": [
    {
     "data": {
      "text/plain": [
       "City_ID       int64\n",
       "City         object\n",
       "Country      object\n",
       "Date         object\n",
       "Lat         float64\n",
       "Lng         float64\n",
       "Max Temp    float64\n",
       "Humidity      int64\n",
       "Clouds        int64\n",
       "Wind        float64\n",
       "dtype: object"
      ]
     },
     "execution_count": 3,
     "metadata": {},
     "output_type": "execute_result"
    }
   ],
   "source": [
    "city_data_df.dtypes"
   ]
  },
  {
   "cell_type": "code",
   "execution_count": 4,
   "id": "561fa5dd-fe59-478b-9d36-ab1ca7ba70d9",
   "metadata": {},
   "outputs": [],
   "source": [
    "# Configure gmaps to use my Google API key\n",
    "gmaps.configure(api_key = g_key)"
   ]
  },
  {
   "cell_type": "code",
   "execution_count": 5,
   "id": "dca88ae7-18e9-4b75-9f6b-f826177f7115",
   "metadata": {},
   "outputs": [
    {
     "data": {
      "text/plain": [
       "-3.46"
      ]
     },
     "execution_count": 5,
     "metadata": {},
     "output_type": "execute_result"
    }
   ],
   "source": [
    "# # 1. Assign the locations to an array of lat/long pairs\n",
    "# locations = city_data_df[[\"Lat\", \"Lng\"]]\n",
    "\n",
    "# # 2. Assign the weights variable to some values\n",
    "# max_temp = city_data_df[\"Max Temp\"]\n",
    "\n",
    "# # 3. Assign the figure variable to the gmaps.figure() attribute\n",
    "# fig = gmaps.figure()\n",
    "\n",
    "# # 4. Assign the heatmap_layer variable to the heatmap_layer attribute and add in the locations\n",
    "# heat_layer = gmaps.heatmap_layer(locations, weights = max_temp)\n",
    "\n",
    "# # 5. Add the heatmap layer\n",
    "# fig.add_layer(heat_layer)\n",
    "\n",
    "# # 6. Call the figure to plot the data\n",
    "# fig\n",
    "# Argh - the above code ran into a negative value for the Max Temp!\n",
    "\n",
    "min_num = city_data_df[\"Max Temp\"].min()\n",
    "min_num"
   ]
  },
  {
   "cell_type": "code",
   "execution_count": 6,
   "id": "2fc9aad8-dc45-42fa-b40e-a5d557d09775",
   "metadata": {},
   "outputs": [
    {
     "data": {
      "text/plain": [
       "534"
      ]
     },
     "execution_count": 6,
     "metadata": {},
     "output_type": "execute_result"
    }
   ],
   "source": [
    "len(city_data_df)"
   ]
  },
  {
   "cell_type": "code",
   "execution_count": 7,
   "id": "58b1a224-ad30-40ae-a2a8-c9013c6f78f1",
   "metadata": {},
   "outputs": [
    {
     "data": {
      "text/html": [
       "<div>\n",
       "<style scoped>\n",
       "    .dataframe tbody tr th:only-of-type {\n",
       "        vertical-align: middle;\n",
       "    }\n",
       "\n",
       "    .dataframe tbody tr th {\n",
       "        vertical-align: top;\n",
       "    }\n",
       "\n",
       "    .dataframe thead th {\n",
       "        text-align: right;\n",
       "    }\n",
       "</style>\n",
       "<table border=\"1\" class=\"dataframe\">\n",
       "  <thead>\n",
       "    <tr style=\"text-align: right;\">\n",
       "      <th></th>\n",
       "      <th>City_ID</th>\n",
       "      <th>City</th>\n",
       "      <th>Country</th>\n",
       "      <th>Date</th>\n",
       "      <th>Lat</th>\n",
       "      <th>Lng</th>\n",
       "      <th>Max Temp</th>\n",
       "      <th>Humidity</th>\n",
       "      <th>Clouds</th>\n",
       "      <th>Wind</th>\n",
       "    </tr>\n",
       "  </thead>\n",
       "  <tbody>\n",
       "    <tr>\n",
       "      <th>503</th>\n",
       "      <td>503</td>\n",
       "      <td>Deputatskiy</td>\n",
       "      <td>RU</td>\n",
       "      <td>2022-10-12 20:3514</td>\n",
       "      <td>69.3</td>\n",
       "      <td>139.9</td>\n",
       "      <td>-3.46</td>\n",
       "      <td>87</td>\n",
       "      <td>3</td>\n",
       "      <td>5.06</td>\n",
       "    </tr>\n",
       "  </tbody>\n",
       "</table>\n",
       "</div>"
      ],
      "text/plain": [
       "     City_ID         City Country                Date   Lat    Lng  Max Temp  \\\n",
       "503      503  Deputatskiy      RU  2022-10-12 20:3514  69.3  139.9     -3.46   \n",
       "\n",
       "     Humidity  Clouds  Wind  \n",
       "503        87       3  5.06  "
      ]
     },
     "execution_count": 7,
     "metadata": {},
     "output_type": "execute_result"
    }
   ],
   "source": [
    "# find row with negative max temp\n",
    "bad_row = city_data_df.loc[city_data_df['Max Temp'] <= 0]\n",
    "bad_row\n",
    "\n",
    "\n",
    "# Module has another way to deal with this.\n",
    "# max_temp = city_data_df[\"Max Temp\"]\n",
    "# temps = []\n",
    "# for temp in max_temp:\n",
    "#    temps.append(max(temp, 0))\n",
    "\n",
    "# Then use \"temps\" instead of \"max_temp\" in weights = max_temp line  of heat_layer variable"
   ]
  },
  {
   "cell_type": "code",
   "execution_count": 8,
   "id": "391c74c7-e8d0-4143-a463-9441a8c470f5",
   "metadata": {},
   "outputs": [
    {
     "name": "stdout",
     "output_type": "stream",
     "text": [
      "533\n",
      "2.25\n"
     ]
    }
   ],
   "source": [
    "# drop row with negative max temp and check length of DF\n",
    "updated_df = city_data_df.drop(503)\n",
    "print(len(updated_df))\n",
    "# Check for new lowest Max Temp\n",
    "print(updated_df[\"Max Temp\"].min())"
   ]
  },
  {
   "cell_type": "code",
   "execution_count": 9,
   "id": "f8fb4234-0e40-4bd9-a4bc-9784e69405d8",
   "metadata": {},
   "outputs": [
    {
     "data": {
      "application/vnd.jupyter.widget-view+json": {
       "model_id": "f324583fa0094016ae60905934e52e81",
       "version_major": 2,
       "version_minor": 0
      },
      "text/plain": [
       "Figure(layout=FigureLayout(height='420px'))"
      ]
     },
     "metadata": {},
     "output_type": "display_data"
    }
   ],
   "source": [
    "# Retry with new DF\n",
    "\n",
    "# 1. Assign the locations to an array of lat/long pairs\n",
    "locations = updated_df[[\"Lat\", \"Lng\"]]\n",
    "\n",
    "# 2. Assign the weights variable to some values\n",
    "max_temp = updated_df[\"Max Temp\"]\n",
    "\n",
    "# 3. Assign the figure variable to the gmaps.figure() attribute\n",
    "fig = gmaps.figure()\n",
    "\n",
    "# 4. Assign the heatmap_layer variable to the heatmap_layer attribute and add in the locations\n",
    "heat_layer = gmaps.heatmap_layer(locations, weights = max_temp)\n",
    "\n",
    "# 5. Add the heatmap layer\n",
    "fig.add_layer(heat_layer)\n",
    "\n",
    "# 6. Call the figure to plot the data\n",
    "fig"
   ]
  },
  {
   "cell_type": "code",
   "execution_count": 14,
   "id": "b7f98a95-766e-40b9-ab2b-a4a9ca148f14",
   "metadata": {},
   "outputs": [
    {
     "data": {
      "application/vnd.jupyter.widget-view+json": {
       "model_id": "583d577c78414f9fa4cd9bc804053145",
       "version_major": 2,
       "version_minor": 0
      },
      "text/plain": [
       "Figure(layout=FigureLayout(height='420px'))"
      ]
     },
     "metadata": {},
     "output_type": "display_data"
    }
   ],
   "source": [
    "# Adjust heatmap zoom, intensity, and point radius\n",
    "locations = updated_df[[\"Lat\", \"Lng\"]]\n",
    "\n",
    "max_temp = updated_df[\"Max Temp\"]\n",
    "\n",
    "fig = gmaps.figure(center=(30.0, 31.0), zoom_level = 1.2)\n",
    "\n",
    "heat_layer = gmaps.heatmap_layer(locations, weights = max_temp, dissipating = False, max_intensity = 300, point_radius = 4)\n",
    "\n",
    "fig.add_layer(heat_layer)\n",
    "\n",
    "fig"
   ]
  },
  {
   "cell_type": "code",
   "execution_count": 18,
   "id": "033adb07",
   "metadata": {},
   "outputs": [
    {
     "data": {
      "application/vnd.jupyter.widget-view+json": {
       "model_id": "583d577c78414f9fa4cd9bc804053145",
       "version_major": 2,
       "version_minor": 0
      },
      "text/plain": [
       "Figure(layout=FigureLayout(height='420px'))"
      ]
     },
     "metadata": {},
     "output_type": "display_data"
    }
   ],
   "source": [
    "# Create a percent humidity heatmap\n",
    "locations = updated_df[[\"Lat\", \"Lng\"]]\n",
    "humidity = updated_df[\"Humidity\"]\n",
    "humid_layer = gmaps.heatmap_layer(locations, weights = humidity, dissipating = False, max_intensity = 300, point_radius = 4)\n",
    "fig.add_layer(humid_layer)\n",
    "fig"
   ]
  },
  {
   "cell_type": "code",
   "execution_count": 19,
   "id": "c33c1552",
   "metadata": {},
   "outputs": [
    {
     "data": {
      "application/vnd.jupyter.widget-view+json": {
       "model_id": "583d577c78414f9fa4cd9bc804053145",
       "version_major": 2,
       "version_minor": 0
      },
      "text/plain": [
       "Figure(layout=FigureLayout(height='420px'))"
      ]
     },
     "metadata": {},
     "output_type": "display_data"
    }
   ],
   "source": [
    "# Create a wind speed heatmap\n",
    "locations = updated_df[[\"Lat\", \"Lng\"]]\n",
    "wind = updated_df[\"Wind\"]\n",
    "wind_layer = gmaps.heatmap_layer(locations, weights = wind, dissipating = False, max_intensity = 300, point_radius = 4)\n",
    "fig.add_layer(wind_layer)\n",
    "fig"
   ]
  },
  {
   "cell_type": "code",
   "execution_count": 20,
   "id": "31784bbe",
   "metadata": {},
   "outputs": [
    {
     "data": {
      "application/vnd.jupyter.widget-view+json": {
       "model_id": "583d577c78414f9fa4cd9bc804053145",
       "version_major": 2,
       "version_minor": 0
      },
      "text/plain": [
       "Figure(layout=FigureLayout(height='420px'))"
      ]
     },
     "metadata": {},
     "output_type": "display_data"
    }
   ],
   "source": [
    "# Create a cloudiness heatmap\n",
    "locations = updated_df[[\"Lat\", \"Lng\"]]\n",
    "clouds = updated_df[\"Clouds\"]\n",
    "cloud_layer = gmaps.heatmap_layer(locations, weights = clouds, dissipating = False, max_intensity = 300, point_radius = 4)\n",
    "fig.add_layer(cloud_layer)\n",
    "fig"
   ]
  },
  {
   "cell_type": "code",
   "execution_count": 31,
   "id": "65c831cd",
   "metadata": {},
   "outputs": [
    {
     "name": "stdout",
     "output_type": "stream",
     "text": [
      "What is the minimum temperature you would like for your trip? 65\n",
      "What is the maximum temperature you would like for your trip? 90\n"
     ]
    }
   ],
   "source": [
    "# 6.5.3 Get vacation criteria\n",
    "# Ask the customer to specify min/max temp values\n",
    "min_temp = float(input(\"What is the minimum temperature you would like for your trip? \"))\n",
    "max_temp = float(input(\"What is the maximum temperature you would like for your trip? \"))\n"
   ]
  },
  {
   "cell_type": "code",
   "execution_count": 32,
   "id": "255af397",
   "metadata": {},
   "outputs": [
    {
     "data": {
      "text/html": [
       "<div>\n",
       "<style scoped>\n",
       "    .dataframe tbody tr th:only-of-type {\n",
       "        vertical-align: middle;\n",
       "    }\n",
       "\n",
       "    .dataframe tbody tr th {\n",
       "        vertical-align: top;\n",
       "    }\n",
       "\n",
       "    .dataframe thead th {\n",
       "        text-align: right;\n",
       "    }\n",
       "</style>\n",
       "<table border=\"1\" class=\"dataframe\">\n",
       "  <thead>\n",
       "    <tr style=\"text-align: right;\">\n",
       "      <th></th>\n",
       "      <th>City_ID</th>\n",
       "      <th>City</th>\n",
       "      <th>Country</th>\n",
       "      <th>Date</th>\n",
       "      <th>Lat</th>\n",
       "      <th>Lng</th>\n",
       "      <th>Max Temp</th>\n",
       "      <th>Humidity</th>\n",
       "      <th>Clouds</th>\n",
       "      <th>Wind</th>\n",
       "    </tr>\n",
       "  </thead>\n",
       "  <tbody>\n",
       "    <tr>\n",
       "      <th>0</th>\n",
       "      <td>0</td>\n",
       "      <td>Rikitea</td>\n",
       "      <td>PF</td>\n",
       "      <td>2022-10-12 20:1911</td>\n",
       "      <td>-23.1203</td>\n",
       "      <td>-134.9692</td>\n",
       "      <td>67.93</td>\n",
       "      <td>64</td>\n",
       "      <td>0</td>\n",
       "      <td>17.52</td>\n",
       "    </tr>\n",
       "    <tr>\n",
       "      <th>2</th>\n",
       "      <td>2</td>\n",
       "      <td>Albany</td>\n",
       "      <td>US</td>\n",
       "      <td>2022-10-12 20:1535</td>\n",
       "      <td>42.6001</td>\n",
       "      <td>-73.9662</td>\n",
       "      <td>68.88</td>\n",
       "      <td>48</td>\n",
       "      <td>100</td>\n",
       "      <td>3.00</td>\n",
       "    </tr>\n",
       "    <tr>\n",
       "      <th>3</th>\n",
       "      <td>3</td>\n",
       "      <td>Kyaikkami</td>\n",
       "      <td>MM</td>\n",
       "      <td>2022-10-12 20:1715</td>\n",
       "      <td>16.0800</td>\n",
       "      <td>97.5675</td>\n",
       "      <td>79.18</td>\n",
       "      <td>77</td>\n",
       "      <td>6</td>\n",
       "      <td>3.31</td>\n",
       "    </tr>\n",
       "    <tr>\n",
       "      <th>6</th>\n",
       "      <td>6</td>\n",
       "      <td>Santa Maria</td>\n",
       "      <td>BR</td>\n",
       "      <td>2022-10-12 20:1823</td>\n",
       "      <td>-29.6842</td>\n",
       "      <td>-53.8069</td>\n",
       "      <td>70.90</td>\n",
       "      <td>56</td>\n",
       "      <td>1</td>\n",
       "      <td>5.73</td>\n",
       "    </tr>\n",
       "    <tr>\n",
       "      <th>14</th>\n",
       "      <td>14</td>\n",
       "      <td>Guerrero Negro</td>\n",
       "      <td>MX</td>\n",
       "      <td>2022-10-12 20:1919</td>\n",
       "      <td>27.9769</td>\n",
       "      <td>-114.0611</td>\n",
       "      <td>74.44</td>\n",
       "      <td>66</td>\n",
       "      <td>38</td>\n",
       "      <td>14.29</td>\n",
       "    </tr>\n",
       "    <tr>\n",
       "      <th>15</th>\n",
       "      <td>15</td>\n",
       "      <td>Lagoa</td>\n",
       "      <td>PT</td>\n",
       "      <td>2022-10-12 20:1920</td>\n",
       "      <td>39.0500</td>\n",
       "      <td>-27.9833</td>\n",
       "      <td>70.66</td>\n",
       "      <td>82</td>\n",
       "      <td>6</td>\n",
       "      <td>10.25</td>\n",
       "    </tr>\n",
       "    <tr>\n",
       "      <th>16</th>\n",
       "      <td>16</td>\n",
       "      <td>Carlagan</td>\n",
       "      <td>PH</td>\n",
       "      <td>2022-10-12 20:1921</td>\n",
       "      <td>14.9750</td>\n",
       "      <td>122.0456</td>\n",
       "      <td>80.37</td>\n",
       "      <td>81</td>\n",
       "      <td>99</td>\n",
       "      <td>8.01</td>\n",
       "    </tr>\n",
       "    <tr>\n",
       "      <th>17</th>\n",
       "      <td>17</td>\n",
       "      <td>Carutapera</td>\n",
       "      <td>BR</td>\n",
       "      <td>2022-10-12 20:1921</td>\n",
       "      <td>-1.1950</td>\n",
       "      <td>-46.0200</td>\n",
       "      <td>82.33</td>\n",
       "      <td>69</td>\n",
       "      <td>100</td>\n",
       "      <td>10.02</td>\n",
       "    </tr>\n",
       "    <tr>\n",
       "      <th>20</th>\n",
       "      <td>20</td>\n",
       "      <td>Guerrero</td>\n",
       "      <td>MX</td>\n",
       "      <td>2022-10-12 20:1923</td>\n",
       "      <td>17.6667</td>\n",
       "      <td>-100.0000</td>\n",
       "      <td>76.66</td>\n",
       "      <td>79</td>\n",
       "      <td>90</td>\n",
       "      <td>1.59</td>\n",
       "    </tr>\n",
       "    <tr>\n",
       "      <th>22</th>\n",
       "      <td>22</td>\n",
       "      <td>Kapaa</td>\n",
       "      <td>US</td>\n",
       "      <td>2022-10-12 20:1924</td>\n",
       "      <td>22.0752</td>\n",
       "      <td>-159.3190</td>\n",
       "      <td>84.18</td>\n",
       "      <td>82</td>\n",
       "      <td>0</td>\n",
       "      <td>5.75</td>\n",
       "    </tr>\n",
       "  </tbody>\n",
       "</table>\n",
       "</div>"
      ],
      "text/plain": [
       "    City_ID            City Country                Date      Lat       Lng  \\\n",
       "0         0         Rikitea      PF  2022-10-12 20:1911 -23.1203 -134.9692   \n",
       "2         2          Albany      US  2022-10-12 20:1535  42.6001  -73.9662   \n",
       "3         3       Kyaikkami      MM  2022-10-12 20:1715  16.0800   97.5675   \n",
       "6         6     Santa Maria      BR  2022-10-12 20:1823 -29.6842  -53.8069   \n",
       "14       14  Guerrero Negro      MX  2022-10-12 20:1919  27.9769 -114.0611   \n",
       "15       15           Lagoa      PT  2022-10-12 20:1920  39.0500  -27.9833   \n",
       "16       16        Carlagan      PH  2022-10-12 20:1921  14.9750  122.0456   \n",
       "17       17      Carutapera      BR  2022-10-12 20:1921  -1.1950  -46.0200   \n",
       "20       20        Guerrero      MX  2022-10-12 20:1923  17.6667 -100.0000   \n",
       "22       22           Kapaa      US  2022-10-12 20:1924  22.0752 -159.3190   \n",
       "\n",
       "    Max Temp  Humidity  Clouds   Wind  \n",
       "0      67.93        64       0  17.52  \n",
       "2      68.88        48     100   3.00  \n",
       "3      79.18        77       6   3.31  \n",
       "6      70.90        56       1   5.73  \n",
       "14     74.44        66      38  14.29  \n",
       "15     70.66        82       6  10.25  \n",
       "16     80.37        81      99   8.01  \n",
       "17     82.33        69     100  10.02  \n",
       "20     76.66        79      90   1.59  \n",
       "22     84.18        82       0   5.75  "
      ]
     },
     "execution_count": 32,
     "metadata": {},
     "output_type": "execute_result"
    }
   ],
   "source": [
    "# filter max temperature column using loc[] with conditional filter in brackers\n",
    "preferred_cities_df = updated_df.loc[(updated_df[\"Max Temp\"] <= max_temp) & (updated_df[\"Max Temp\"] >= min_temp)]\n",
    "preferred_cities_df.head(10)"
   ]
  },
  {
   "cell_type": "code",
   "execution_count": 33,
   "id": "f29507a8",
   "metadata": {},
   "outputs": [
    {
     "name": "stdout",
     "output_type": "stream",
     "text": [
      "<class 'pandas.core.frame.DataFrame'>\n",
      "Int64Index: 267 entries, 0 to 533\n",
      "Data columns (total 10 columns):\n",
      " #   Column    Non-Null Count  Dtype  \n",
      "---  ------    --------------  -----  \n",
      " 0   City_ID   267 non-null    int64  \n",
      " 1   City      267 non-null    object \n",
      " 2   Country   264 non-null    object \n",
      " 3   Date      267 non-null    object \n",
      " 4   Lat       267 non-null    float64\n",
      " 5   Lng       267 non-null    float64\n",
      " 6   Max Temp  267 non-null    float64\n",
      " 7   Humidity  267 non-null    int64  \n",
      " 8   Clouds    267 non-null    int64  \n",
      " 9   Wind      267 non-null    float64\n",
      "dtypes: float64(4), int64(3), object(3)\n",
      "memory usage: 22.9+ KB\n"
     ]
    }
   ],
   "source": [
    "preferred_cities_df.info()"
   ]
  },
  {
   "cell_type": "code",
   "execution_count": 34,
   "id": "591bfabb",
   "metadata": {},
   "outputs": [
    {
     "name": "stdout",
     "output_type": "stream",
     "text": [
      "<class 'pandas.core.frame.DataFrame'>\n",
      "Int64Index: 264 entries, 0 to 533\n",
      "Data columns (total 10 columns):\n",
      " #   Column    Non-Null Count  Dtype  \n",
      "---  ------    --------------  -----  \n",
      " 0   City_ID   264 non-null    int64  \n",
      " 1   City      264 non-null    object \n",
      " 2   Country   264 non-null    object \n",
      " 3   Date      264 non-null    object \n",
      " 4   Lat       264 non-null    float64\n",
      " 5   Lng       264 non-null    float64\n",
      " 6   Max Temp  264 non-null    float64\n",
      " 7   Humidity  264 non-null    int64  \n",
      " 8   Clouds    264 non-null    int64  \n",
      " 9   Wind      264 non-null    float64\n",
      "dtypes: float64(4), int64(3), object(3)\n",
      "memory usage: 22.7+ KB\n"
     ]
    }
   ],
   "source": [
    "preferred_cities_df.dropna().info()"
   ]
  },
  {
   "cell_type": "code",
   "execution_count": 36,
   "id": "136ad09a",
   "metadata": {},
   "outputs": [
    {
     "data": {
      "text/html": [
       "<div>\n",
       "<style scoped>\n",
       "    .dataframe tbody tr th:only-of-type {\n",
       "        vertical-align: middle;\n",
       "    }\n",
       "\n",
       "    .dataframe tbody tr th {\n",
       "        vertical-align: top;\n",
       "    }\n",
       "\n",
       "    .dataframe thead th {\n",
       "        text-align: right;\n",
       "    }\n",
       "</style>\n",
       "<table border=\"1\" class=\"dataframe\">\n",
       "  <thead>\n",
       "    <tr style=\"text-align: right;\">\n",
       "      <th></th>\n",
       "      <th>City</th>\n",
       "      <th>Country</th>\n",
       "      <th>Max Temp</th>\n",
       "      <th>Lat</th>\n",
       "      <th>Lng</th>\n",
       "      <th>Hotel Name</th>\n",
       "    </tr>\n",
       "  </thead>\n",
       "  <tbody>\n",
       "    <tr>\n",
       "      <th>0</th>\n",
       "      <td>Rikitea</td>\n",
       "      <td>PF</td>\n",
       "      <td>67.93</td>\n",
       "      <td>-23.1203</td>\n",
       "      <td>-134.9692</td>\n",
       "      <td></td>\n",
       "    </tr>\n",
       "    <tr>\n",
       "      <th>2</th>\n",
       "      <td>Albany</td>\n",
       "      <td>US</td>\n",
       "      <td>68.88</td>\n",
       "      <td>42.6001</td>\n",
       "      <td>-73.9662</td>\n",
       "      <td></td>\n",
       "    </tr>\n",
       "    <tr>\n",
       "      <th>3</th>\n",
       "      <td>Kyaikkami</td>\n",
       "      <td>MM</td>\n",
       "      <td>79.18</td>\n",
       "      <td>16.0800</td>\n",
       "      <td>97.5675</td>\n",
       "      <td></td>\n",
       "    </tr>\n",
       "    <tr>\n",
       "      <th>6</th>\n",
       "      <td>Santa Maria</td>\n",
       "      <td>BR</td>\n",
       "      <td>70.90</td>\n",
       "      <td>-29.6842</td>\n",
       "      <td>-53.8069</td>\n",
       "      <td></td>\n",
       "    </tr>\n",
       "    <tr>\n",
       "      <th>14</th>\n",
       "      <td>Guerrero Negro</td>\n",
       "      <td>MX</td>\n",
       "      <td>74.44</td>\n",
       "      <td>27.9769</td>\n",
       "      <td>-114.0611</td>\n",
       "      <td></td>\n",
       "    </tr>\n",
       "    <tr>\n",
       "      <th>15</th>\n",
       "      <td>Lagoa</td>\n",
       "      <td>PT</td>\n",
       "      <td>70.66</td>\n",
       "      <td>39.0500</td>\n",
       "      <td>-27.9833</td>\n",
       "      <td></td>\n",
       "    </tr>\n",
       "    <tr>\n",
       "      <th>16</th>\n",
       "      <td>Carlagan</td>\n",
       "      <td>PH</td>\n",
       "      <td>80.37</td>\n",
       "      <td>14.9750</td>\n",
       "      <td>122.0456</td>\n",
       "      <td></td>\n",
       "    </tr>\n",
       "    <tr>\n",
       "      <th>17</th>\n",
       "      <td>Carutapera</td>\n",
       "      <td>BR</td>\n",
       "      <td>82.33</td>\n",
       "      <td>-1.1950</td>\n",
       "      <td>-46.0200</td>\n",
       "      <td></td>\n",
       "    </tr>\n",
       "    <tr>\n",
       "      <th>20</th>\n",
       "      <td>Guerrero</td>\n",
       "      <td>MX</td>\n",
       "      <td>76.66</td>\n",
       "      <td>17.6667</td>\n",
       "      <td>-100.0000</td>\n",
       "      <td></td>\n",
       "    </tr>\n",
       "    <tr>\n",
       "      <th>22</th>\n",
       "      <td>Kapaa</td>\n",
       "      <td>US</td>\n",
       "      <td>84.18</td>\n",
       "      <td>22.0752</td>\n",
       "      <td>-159.3190</td>\n",
       "      <td></td>\n",
       "    </tr>\n",
       "  </tbody>\n",
       "</table>\n",
       "</div>"
      ],
      "text/plain": [
       "              City Country  Max Temp      Lat       Lng Hotel Name\n",
       "0          Rikitea      PF     67.93 -23.1203 -134.9692           \n",
       "2           Albany      US     68.88  42.6001  -73.9662           \n",
       "3        Kyaikkami      MM     79.18  16.0800   97.5675           \n",
       "6      Santa Maria      BR     70.90 -29.6842  -53.8069           \n",
       "14  Guerrero Negro      MX     74.44  27.9769 -114.0611           \n",
       "15           Lagoa      PT     70.66  39.0500  -27.9833           \n",
       "16        Carlagan      PH     80.37  14.9750  122.0456           \n",
       "17      Carutapera      BR     82.33  -1.1950  -46.0200           \n",
       "20        Guerrero      MX     76.66  17.6667 -100.0000           \n",
       "22           Kapaa      US     84.18  22.0752 -159.3190           "
      ]
     },
     "execution_count": 36,
     "metadata": {},
     "output_type": "execute_result"
    }
   ],
   "source": [
    "#6.5.4 Map Vacation Criteria\n",
    "# create new DF to hold hotel info for preferred cities\n",
    "hotel_df = preferred_cities_df[[\"City\", \"Country\", \"Max Temp\", \"Lat\", \"Lng\"]].copy()\n",
    "hotel_df[\"Hotel Name\"] = \"\"\n",
    "hotel_df.head(10)"
   ]
  },
  {
   "cell_type": "code",
   "execution_count": 37,
   "id": "b4f36d91",
   "metadata": {},
   "outputs": [],
   "source": [
    "# Set params to search for a hotel\n",
    "params = {\n",
    "    \"radius\": 5000,\n",
    "    \"type\": \"lodging\",\n",
    "    \"key\": g_key\n",
    "}"
   ]
  },
  {
   "cell_type": "code",
   "execution_count": 39,
   "id": "dc3afef2",
   "metadata": {},
   "outputs": [
    {
     "name": "stdout",
     "output_type": "stream",
     "text": [
      "Hotel not found... skipping\n",
      "Hotel not found... skipping\n",
      "Hotel not found... skipping\n",
      "Hotel not found... skipping\n",
      "Hotel not found... skipping\n",
      "Hotel not found... skipping\n",
      "Hotel not found... skipping\n",
      "Hotel not found... skipping\n",
      "Hotel not found... skipping\n",
      "Hotel not found... skipping\n",
      "Hotel not found... skipping\n",
      "Hotel not found... skipping\n",
      "Hotel not found... skipping\n",
      "Hotel not found... skipping\n",
      "Hotel not found... skipping\n",
      "Hotel not found... skipping\n",
      "Hotel not found... skipping\n",
      "Hotel not found... skipping\n",
      "Hotel not found... skipping\n",
      "Hotel not found... skipping\n",
      "Hotel not found... skipping\n",
      "Hotel not found... skipping\n"
     ]
    }
   ],
   "source": [
    "# Iterate through hotel_df DF\n",
    "for index, row in hotel_df.iterrows():\n",
    "    # Get the lat and long\n",
    "    lat = row[\"Lat\"]\n",
    "    lng = row[\"Lng\"]\n",
    "    \n",
    "    # Add the lat and lng to location key for the params dictionary\n",
    "    params[\"location\"] = f\"{lat},{lng}\"\n",
    "    \n",
    "    # Use the search term (lodging) and our lat/long\n",
    "    base_url = \"https://maps.googleapis.com/maps/api/place/nearbysearch/json\"\n",
    "    \n",
    "    # Make a request and get JSON data from it\n",
    "    hotels = requests.get(base_url, params=params).json()\n",
    "    \n",
    "    # Grab the first hotel from the results and store the name\n",
    "    try:\n",
    "        hotel_df.loc[index, \"Hotel Name\"] = hotels[\"results\"][0][\"name\"]\n",
    "    except (IndexError):\n",
    "        print(\"Hotel not found... skipping\")"
   ]
  },
  {
   "cell_type": "code",
   "execution_count": 40,
   "id": "92a649a3",
   "metadata": {},
   "outputs": [
    {
     "data": {
      "text/html": [
       "<div>\n",
       "<style scoped>\n",
       "    .dataframe tbody tr th:only-of-type {\n",
       "        vertical-align: middle;\n",
       "    }\n",
       "\n",
       "    .dataframe tbody tr th {\n",
       "        vertical-align: top;\n",
       "    }\n",
       "\n",
       "    .dataframe thead th {\n",
       "        text-align: right;\n",
       "    }\n",
       "</style>\n",
       "<table border=\"1\" class=\"dataframe\">\n",
       "  <thead>\n",
       "    <tr style=\"text-align: right;\">\n",
       "      <th></th>\n",
       "      <th>City</th>\n",
       "      <th>Country</th>\n",
       "      <th>Max Temp</th>\n",
       "      <th>Lat</th>\n",
       "      <th>Lng</th>\n",
       "      <th>Hotel Name</th>\n",
       "    </tr>\n",
       "  </thead>\n",
       "  <tbody>\n",
       "    <tr>\n",
       "      <th>0</th>\n",
       "      <td>Rikitea</td>\n",
       "      <td>PF</td>\n",
       "      <td>67.93</td>\n",
       "      <td>-23.1203</td>\n",
       "      <td>-134.9692</td>\n",
       "      <td>People ThankYou</td>\n",
       "    </tr>\n",
       "    <tr>\n",
       "      <th>2</th>\n",
       "      <td>Albany</td>\n",
       "      <td>US</td>\n",
       "      <td>68.88</td>\n",
       "      <td>42.6001</td>\n",
       "      <td>-73.9662</td>\n",
       "      <td></td>\n",
       "    </tr>\n",
       "    <tr>\n",
       "      <th>3</th>\n",
       "      <td>Kyaikkami</td>\n",
       "      <td>MM</td>\n",
       "      <td>79.18</td>\n",
       "      <td>16.0800</td>\n",
       "      <td>97.5675</td>\n",
       "      <td>St. joseph catholic church</td>\n",
       "    </tr>\n",
       "    <tr>\n",
       "      <th>6</th>\n",
       "      <td>Santa Maria</td>\n",
       "      <td>BR</td>\n",
       "      <td>70.90</td>\n",
       "      <td>-29.6842</td>\n",
       "      <td>-53.8069</td>\n",
       "      <td>Hotel Morotin</td>\n",
       "    </tr>\n",
       "    <tr>\n",
       "      <th>14</th>\n",
       "      <td>Guerrero Negro</td>\n",
       "      <td>MX</td>\n",
       "      <td>74.44</td>\n",
       "      <td>27.9769</td>\n",
       "      <td>-114.0611</td>\n",
       "      <td>Casa Laguna, Bed &amp; Breakfast</td>\n",
       "    </tr>\n",
       "  </tbody>\n",
       "</table>\n",
       "</div>"
      ],
      "text/plain": [
       "              City Country  Max Temp      Lat       Lng  \\\n",
       "0          Rikitea      PF     67.93 -23.1203 -134.9692   \n",
       "2           Albany      US     68.88  42.6001  -73.9662   \n",
       "3        Kyaikkami      MM     79.18  16.0800   97.5675   \n",
       "6      Santa Maria      BR     70.90 -29.6842  -53.8069   \n",
       "14  Guerrero Negro      MX     74.44  27.9769 -114.0611   \n",
       "\n",
       "                      Hotel Name  \n",
       "0                People ThankYou  \n",
       "2                                 \n",
       "3     St. joseph catholic church  \n",
       "6                  Hotel Morotin  \n",
       "14  Casa Laguna, Bed & Breakfast  "
      ]
     },
     "execution_count": 40,
     "metadata": {},
     "output_type": "execute_result"
    }
   ],
   "source": [
    "hotel_df.head()"
   ]
  },
  {
   "cell_type": "code",
   "execution_count": 41,
   "id": "47d5fd2b",
   "metadata": {},
   "outputs": [
    {
     "data": {
      "text/plain": [
       "267"
      ]
     },
     "execution_count": 41,
     "metadata": {},
     "output_type": "execute_result"
    }
   ],
   "source": [
    "len(hotel_df)"
   ]
  },
  {
   "cell_type": "code",
   "execution_count": 42,
   "id": "3c74f828",
   "metadata": {},
   "outputs": [
    {
     "name": "stdout",
     "output_type": "stream",
     "text": [
      "<class 'pandas.core.frame.DataFrame'>\n",
      "Int64Index: 267 entries, 0 to 533\n",
      "Data columns (total 6 columns):\n",
      " #   Column      Non-Null Count  Dtype  \n",
      "---  ------      --------------  -----  \n",
      " 0   City        267 non-null    object \n",
      " 1   Country     264 non-null    object \n",
      " 2   Max Temp    267 non-null    float64\n",
      " 3   Lat         267 non-null    float64\n",
      " 4   Lng         267 non-null    float64\n",
      " 5   Hotel Name  267 non-null    object \n",
      "dtypes: float64(3), object(3)\n",
      "memory usage: 22.7+ KB\n"
     ]
    }
   ],
   "source": [
    "hotel_df.info()"
   ]
  },
  {
   "cell_type": "code",
   "execution_count": 43,
   "id": "5cda3bed",
   "metadata": {},
   "outputs": [],
   "source": [
    "hotel_df = hotel_df.dropna()"
   ]
  },
  {
   "cell_type": "code",
   "execution_count": 44,
   "id": "b614cc45",
   "metadata": {},
   "outputs": [
    {
     "data": {
      "text/plain": [
       "264"
      ]
     },
     "execution_count": 44,
     "metadata": {},
     "output_type": "execute_result"
    }
   ],
   "source": [
    "len(hotel_df)"
   ]
  },
  {
   "cell_type": "code",
   "execution_count": 45,
   "id": "e37c8464",
   "metadata": {},
   "outputs": [
    {
     "data": {
      "application/vnd.jupyter.widget-view+json": {
       "model_id": "f19bc97fb8224ab5b9574bb4ed504d7d",
       "version_major": 2,
       "version_minor": 0
      },
      "text/plain": [
       "Figure(layout=FigureLayout(height='420px'))"
      ]
     },
     "metadata": {},
     "output_type": "display_data"
    }
   ],
   "source": [
    "# Add a heatmap of temp for the vacation spots and marker for each city\n",
    "locations = hotel_df[[\"Lat\", \"Lng\"]]\n",
    "max_temp = hotel_df[\"Max Temp\"]\n",
    "fig = gmaps.figure(center =(30.0, 31.0), zoom_level = 1.5)\n",
    "heat_layer = gmaps.heatmap_layer(locations, weights = max_temp, dissipating = False, max_intensity = 300, point_radius = 4)\n",
    "marker_layer = gmaps.marker_layer(locations)\n",
    "fig.add_layer(heat_layer)\n",
    "fig.add_layer(marker_layer)\n",
    "fig"
   ]
  },
  {
   "cell_type": "code",
   "execution_count": 46,
   "id": "cb25846f",
   "metadata": {},
   "outputs": [],
   "source": [
    "# Add pop-up marks for each city with hotel info etc.\n",
    "info_box_template = \"\"\"\n",
    "<dl>\n",
    "<dt>Hotel Name</dt><dd>{Hotel Name}</dd>\n",
    "<dt>City</dt><dd>{City}</dd>\n",
    "<dt>Country</dt><dd>{Country}</dd>\n",
    "<dt>Max Temp</dt><dd>{Max Temp}</dd>\n",
    "</dl>\n",
    "\"\"\"\n",
    "\n",
    "# Store the DF row\n",
    "hotel_info = [info_box_template.format(**row) for index, row in hotel_df.iterrows()]\n"
   ]
  },
  {
   "cell_type": "code",
   "execution_count": 47,
   "id": "4596a330",
   "metadata": {},
   "outputs": [
    {
     "data": {
      "application/vnd.jupyter.widget-view+json": {
       "model_id": "b2af445391a9465ebd7797ae1de0879d",
       "version_major": 2,
       "version_minor": 0
      },
      "text/plain": [
       "Figure(layout=FigureLayout(height='420px'))"
      ]
     },
     "metadata": {},
     "output_type": "display_data"
    }
   ],
   "source": [
    "# now with popup markers\n",
    "locations = hotel_df[[\"Lat\", \"Lng\"]]\n",
    "max_temp = hotel_df[\"Max Temp\"]\n",
    "fig = gmaps.figure(center =(30.0, 31.0), zoom_level = 1.5)\n",
    "heat_layer = gmaps.heatmap_layer(locations, weights = max_temp, dissipating = False, max_intensity = 300, point_radius = 4)\n",
    "marker_layer = gmaps.marker_layer(locations, info_box_content = hotel_info)\n",
    "fig.add_layer(heat_layer)\n",
    "fig.add_layer(marker_layer)\n",
    "fig"
   ]
  },
  {
   "cell_type": "code",
   "execution_count": null,
   "id": "a84f57ac",
   "metadata": {},
   "outputs": [],
   "source": []
  }
 ],
 "metadata": {
  "kernelspec": {
   "display_name": "PythonData",
   "language": "python",
   "name": "pythondata"
  },
  "language_info": {
   "codemirror_mode": {
    "name": "ipython",
    "version": 3
   },
   "file_extension": ".py",
   "mimetype": "text/x-python",
   "name": "python",
   "nbconvert_exporter": "python",
   "pygments_lexer": "ipython3",
   "version": "3.8.13"
  }
 },
 "nbformat": 4,
 "nbformat_minor": 5
}

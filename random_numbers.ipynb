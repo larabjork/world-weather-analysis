{
 "cells": [
  {
   "cell_type": "code",
   "execution_count": 1,
   "id": "91e55a77-fe8c-4b07-b4b4-ceef90867008",
   "metadata": {},
   "outputs": [],
   "source": [
    "# Import the random module\n",
    "import random"
   ]
  },
  {
   "cell_type": "code",
   "execution_count": 2,
   "id": "0e26a557-e45d-456c-8435-0a7639ab1d81",
   "metadata": {},
   "outputs": [
    {
     "data": {
      "text/plain": [
       "88"
      ]
     },
     "execution_count": 2,
     "metadata": {},
     "output_type": "execute_result"
    }
   ],
   "source": [
    "# Return a random integer, between -90 and 90\n",
    "random.randint(-90, 90)"
   ]
  },
  {
   "cell_type": "code",
   "execution_count": 4,
   "id": "b12d1743-c921-4961-8358-39bbde2b1f70",
   "metadata": {},
   "outputs": [
    {
     "data": {
      "text/plain": [
       "0.9979845445564182"
      ]
     },
     "execution_count": 4,
     "metadata": {},
     "output_type": "execute_result"
    }
   ],
   "source": [
    "# Return a random decimal number\n",
    "random.random()"
   ]
  },
  {
   "cell_type": "code",
   "execution_count": 5,
   "id": "6b673b73-48e3-4ead-86c0-bed9b862a748",
   "metadata": {},
   "outputs": [
    {
     "data": {
      "text/plain": [
       "-11.70983955550901"
      ]
     },
     "execution_count": 5,
     "metadata": {},
     "output_type": "execute_result"
    }
   ],
   "source": [
    "# Combine integer + decimal number\n",
    "random_number = random.randint(-90, 89) + random.random()\n",
    "random_number"
   ]
  },
  {
   "cell_type": "code",
   "execution_count": 7,
   "id": "f6c41cd4-ed93-4ff5-8c91-46137b5d7a9d",
   "metadata": {},
   "outputs": [
    {
     "data": {
      "text/plain": [
       "[-9.739848066975744,\n",
       " 52.87180310951897,\n",
       " 11.45837700307828,\n",
       " 64.57414091000193,\n",
       " 88.5841181981987,\n",
       " 49.72327431122186,\n",
       " 62.27608065964699,\n",
       " 6.344725848253709,\n",
       " 56.75375734647091,\n",
       " 30.995756400707144]"
      ]
     },
     "execution_count": 7,
     "metadata": {},
     "output_type": "execute_result"
    }
   ],
   "source": [
    "# One way to generate latitudes btwn -90 and 89 - long code\n",
    "x = 1\n",
    "latitudes = []\n",
    "while x < 11:\n",
    "    random_lat = random.randint(-90, 89) + random.random()\n",
    "    latitudes.append(random_lat)\n",
    "    x += 1\n",
    "latitudes"
   ]
  },
  {
   "cell_type": "code",
   "execution_count": 10,
   "id": "dfe427e7-5ff6-4322-867d-1d351a3abc20",
   "metadata": {},
   "outputs": [
    {
     "data": {
      "text/plain": [
       "57"
      ]
     },
     "execution_count": 10,
     "metadata": {},
     "output_type": "execute_result"
    }
   ],
   "source": [
    "# Randrange method - includes step param (1 is default for step)\n",
    "random.randrange(-90, 90, step = 3)\n"
   ]
  },
  {
   "cell_type": "code",
   "execution_count": 11,
   "id": "12976760-d469-4411-a85e-2f162d7e0c7f",
   "metadata": {},
   "outputs": [
    {
     "data": {
      "text/plain": [
       "-32.63243568169451"
      ]
     },
     "execution_count": 11,
     "metadata": {},
     "output_type": "execute_result"
    }
   ],
   "source": [
    "# uniform function - floating pt decimal from within stated range\n",
    "random.uniform(-90, 90)"
   ]
  },
  {
   "cell_type": "code",
   "execution_count": 12,
   "id": "9dae0198-7059-4db0-92fb-f5cde483c7a7",
   "metadata": {},
   "outputs": [],
   "source": [
    "# import the NumPy module, which has its own random module\n",
    "import numpy as np"
   ]
  },
  {
   "cell_type": "code",
   "execution_count": 14,
   "id": "caf5613a-8e12-4bef-885a-8fdf23ed1919",
   "metadata": {},
   "outputs": [
    {
     "data": {
      "text/plain": [
       "1.4451171973636292"
      ]
     },
     "execution_count": 14,
     "metadata": {},
     "output_type": "execute_result"
    }
   ],
   "source": [
    "# params are upper and lower boundaries; can also write params as:\n",
    "# np.random.uniform(low = -90, high = 90)\n",
    "# zeros after decimal are optional\n",
    "np.random.uniform(-90.000, 90.000)"
   ]
  },
  {
   "cell_type": "code",
   "execution_count": 15,
   "id": "99c68a9b-9c08-4f15-a01a-9e552eaf8c97",
   "metadata": {},
   "outputs": [
    {
     "data": {
      "text/plain": [
       "array([ 63.26457472,  56.20209216,   6.21831126,  48.28263416,\n",
       "       -24.75141911,  22.74120958,  22.55750997,  27.52905675,\n",
       "       -27.0779162 ,  60.26187653, -73.46386994,  22.65614993,\n",
       "       -49.0062194 ,  40.8806277 ,  73.47624618,  48.14579825,\n",
       "       -87.09942664,  51.13776862,  43.81212017, -20.87230612,\n",
       "       -54.27221072, -88.51569509,  68.41544965,  31.90208559,\n",
       "        50.75488829, -27.46534253, -52.25801883,  55.42228061,\n",
       "        63.96710607,  49.89765991, -28.78125283,   5.69895141,\n",
       "         6.55398022, -73.05774331, -80.4115545 ,  26.49508809,\n",
       "       -72.2782641 ,  74.63146912, -26.59771599, -19.20808535,\n",
       "       -75.50528178, -58.90002651,  54.95007688,   2.07022725,\n",
       "        32.88878389, -26.05591469, -85.81116032, -40.20508387,\n",
       "        18.43917287, -26.75484437])"
      ]
     },
     "execution_count": 15,
     "metadata": {},
     "output_type": "execute_result"
    }
   ],
   "source": [
    "# to generate multiple random numbers at one time\n",
    "np.random.uniform(-90, 90, size = 50)"
   ]
  },
  {
   "cell_type": "code",
   "execution_count": 16,
   "id": "22f6a9fc-1888-4ef6-aa70-b3f142cf67d0",
   "metadata": {},
   "outputs": [],
   "source": [
    "# Test the time to run while loop vs np.random\n",
    "# Import timeit\n",
    "import timeit"
   ]
  },
  {
   "cell_type": "code",
   "execution_count": 17,
   "id": "66feecc0-c482-493a-93ae-61e4dc12a654",
   "metadata": {},
   "outputs": [
    {
     "name": "stdout",
     "output_type": "stream",
     "text": [
      "22.8 µs ± 540 ns per loop (mean ± std. dev. of 7 runs, 10,000 loops each)\n"
     ]
    }
   ],
   "source": [
    "%timeit np.random.uniform(-90, 90, size = 1500)"
   ]
  },
  {
   "cell_type": "code",
   "execution_count": 18,
   "id": "828fb846-8fb4-472e-9b67-4271af38e2a5",
   "metadata": {},
   "outputs": [
    {
     "name": "stdout",
     "output_type": "stream",
     "text": [
      "2.36 ms ± 45.8 µs per loop (mean ± std. dev. of 7 runs, 100 loops each)\n"
     ]
    }
   ],
   "source": [
    "# While loop to accomplish same thing\n",
    "def latitudes(size):\n",
    "    latitudes = []\n",
    "    x = 0\n",
    "    while x < (size):\n",
    "        random_lat = random.randint(-90, 90) + random.random()\n",
    "        latitudes.append(random_lat)\n",
    "        x += 1\n",
    "    return latitudes\n",
    "\n",
    "# Call the function with 1500 and timeit\n",
    "%timeit latitudes(1500)\n",
    "        "
   ]
  },
  {
   "cell_type": "code",
   "execution_count": null,
   "id": "615c32b7-40ab-4b37-a38d-0f894f392221",
   "metadata": {},
   "outputs": [],
   "source": []
  }
 ],
 "metadata": {
  "kernelspec": {
   "display_name": "PythonData",
   "language": "python",
   "name": "pythondata"
  },
  "language_info": {
   "codemirror_mode": {
    "name": "ipython",
    "version": 3
   },
   "file_extension": ".py",
   "mimetype": "text/x-python",
   "name": "python",
   "nbconvert_exporter": "python",
   "pygments_lexer": "ipython3",
   "version": "3.8.13"
  }
 },
 "nbformat": 4,
 "nbformat_minor": 5
}
